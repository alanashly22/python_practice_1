{
  "nbformat": 4,
  "nbformat_minor": 0,
  "metadata": {
    "colab": {
      "provenance": []
    },
    "kernelspec": {
      "name": "python3",
      "display_name": "Python 3"
    },
    "language_info": {
      "name": "python"
    }
  },
  "cells": [
    {
      "cell_type": "markdown",
      "source": [
        "# **1. Write a Python program which accepts the radius of a circle from the user and compute the area**"
      ],
      "metadata": {
        "id": "O42_RzUP6WYU"
      }
    },
    {
      "cell_type": "code",
      "source": [
        "import math\n",
        "print(\"to find the area of the circle\\n\\n\")\n",
        "r= float(input(\"enter the radius of the circle\"))\n",
        "a= math.pi*r**2\n",
        "print(\"area of the circle= \",a)\n"
      ],
      "metadata": {
        "colab": {
          "base_uri": "https://localhost:8080/"
        },
        "id": "FtN0C4gx6eru",
        "outputId": "3c9eed68-8047-481c-bb69-0154605ea54d"
      },
      "execution_count": null,
      "outputs": [
        {
          "output_type": "stream",
          "name": "stdout",
          "text": [
            "to find the area of the circle\n",
            "\n",
            "\n",
            "enter the radius of the circle3\n",
            "area of the circle=  28.274333882308138\n"
          ]
        }
      ]
    },
    {
      "cell_type": "markdown",
      "source": [
        "# 2. Write a Python Program to accept the details of a student like name, roll,number and mark and display it."
      ],
      "metadata": {
        "id": "qcstrUqv8dGj"
      }
    },
    {
      "cell_type": "code",
      "source": [
        "print(\"Enter the details of the students\\n\")\n",
        "name=str(input(\"enter the name: \\t\"))\n",
        "roll=int(input(\"enter the roll number:\\t\"))\n",
        "mark=int(input(\"enter the marks:\\t\"))\n",
        "print(\"\\nSTUDENT DETAILS\\n\")\n",
        "print(\"Name:\\t\",name)\n",
        "print(\"Roll No:\",roll)\n",
        "print(\"Mark:\\t\",mark)\n",
        "\n"
      ],
      "metadata": {
        "colab": {
          "base_uri": "https://localhost:8080/"
        },
        "id": "iEvzFF2d634H",
        "outputId": "76b3a2dd-766a-48ca-ce2f-4dd11f5ac4f6"
      },
      "execution_count": null,
      "outputs": [
        {
          "output_type": "stream",
          "name": "stdout",
          "text": [
            "Enter the details of the students\n",
            "\n",
            "enter the name: \tAlan\n",
            "enter the roll number:\t11\n",
            "enter the marks:\t46\n",
            "\n",
            "STUDENT DETAILS\n",
            "\n",
            "Name:\t Alan\n",
            "Roll No: 11\n",
            "Mark:\t 46\n"
          ]
        }
      ]
    },
    {
      "cell_type": "markdown",
      "source": [
        "# **3. Write a Python program to get the largest number from a list.**"
      ],
      "metadata": {
        "id": "yYELcrNnCfJb"
      }
    },
    {
      "cell_type": "code",
      "source": [
        "def get_largest_number(numbers):\n",
        "    if not numbers:\n",
        "        return None\n",
        "\n",
        "    largest = numbers[0]\n",
        "    for num in numbers[1:]:\n",
        "        if num > largest:\n",
        "            largest = num\n",
        "\n",
        "    return largest\n",
        "print(\"Enter a list of numbers:\")\n",
        "numbers = []\n",
        "while True:\n",
        "    user_input = input()\n",
        "    if user_input.strip() == \"\":\n",
        "        break\n",
        "    numbers.append(int(user_input))\n",
        "\n",
        "largest_number = get_largest_number(numbers)\n",
        "\n",
        "if largest_number is None:\n",
        "    print(\"The list is empty.\")\n",
        "else:\n",
        "    print(f\"The largest number in the list is: {largest_number}\")"
      ],
      "metadata": {
        "id": "4aEnQ_Lr82PO",
        "colab": {
          "base_uri": "https://localhost:8080/"
        },
        "outputId": "031963c7-1e7a-4fb0-d8d2-1eab91ba72b0"
      },
      "execution_count": 1,
      "outputs": [
        {
          "output_type": "stream",
          "name": "stdout",
          "text": [
            "Enter a list of numbers:\n",
            "5\n",
            "89\n",
            "34\n",
            "62\n",
            "71\n",
            "\n",
            "The largest number in the list is: 89\n"
          ]
        }
      ]
    },
    {
      "cell_type": "markdown",
      "source": [
        "#4. Given a range of first 10 numbers, write a Python program to iterate from start number to the end number and print the sum of the current number and previous number."
      ],
      "metadata": {
        "id": "LtN3Hqhzt-wT"
      }
    },
    {
      "cell_type": "code",
      "source": [
        "start = 1\n",
        "end = 10\n",
        "\n",
        "previous_number = 0\n",
        "for current_number in range(start, end + 1):\n",
        "    print(f\"Current number: {current_number}, Previous number: {previous_number}, Sum: {current_number + previous_number}\")\n",
        "    previous_number = current_number"
      ],
      "metadata": {
        "colab": {
          "base_uri": "https://localhost:8080/"
        },
        "id": "bUXm5bcquPDX",
        "outputId": "59d974ed-a6fc-4e99-c583-878e6e67ac9e"
      },
      "execution_count": 2,
      "outputs": [
        {
          "output_type": "stream",
          "name": "stdout",
          "text": [
            "Current number: 1, Previous number: 0, Sum: 1\n",
            "Current number: 2, Previous number: 1, Sum: 3\n",
            "Current number: 3, Previous number: 2, Sum: 5\n",
            "Current number: 4, Previous number: 3, Sum: 7\n",
            "Current number: 5, Previous number: 4, Sum: 9\n",
            "Current number: 6, Previous number: 5, Sum: 11\n",
            "Current number: 7, Previous number: 6, Sum: 13\n",
            "Current number: 8, Previous number: 7, Sum: 15\n",
            "Current number: 9, Previous number: 8, Sum: 17\n",
            "Current number: 10, Previous number: 9, Sum: 19\n"
          ]
        }
      ]
    },
    {
      "cell_type": "markdown",
      "source": [
        "# **5. Write a Python program to print only those numbers which are divisible of 5.**"
      ],
      "metadata": {
        "id": "hl55duKCutGP"
      }
    },
    {
      "cell_type": "code",
      "source": [
        "print(\"Enter a list of numbers separated by spaces:\")\n",
        "user_input = input()\n",
        "\n",
        "numbers = user_input.split(\",\")\n",
        "\n",
        "for number in numbers:\n",
        "    if int(number.strip()) % 5 == 0:\n",
        "        print(number.strip())"
      ],
      "metadata": {
        "colab": {
          "base_uri": "https://localhost:8080/"
        },
        "id": "SewZnFw4u4-p",
        "outputId": "6982022a-6286-4e1a-cf78-d419c28aa9f9"
      },
      "execution_count": 7,
      "outputs": [
        {
          "output_type": "stream",
          "name": "stdout",
          "text": [
            "Enter a list of numbers separated by spaces:\n",
            "25,96,75,46,85\n",
            "25\n",
            "75\n",
            "85\n"
          ]
        }
      ]
    },
    {
      "cell_type": "markdown",
      "source": [
        "# **6. Write a Python program to check whether a number is prime or not**"
      ],
      "metadata": {
        "id": "GFc_AS41x5t3"
      }
    },
    {
      "cell_type": "code",
      "source": [
        "def is_prime(number):\n",
        "    if number <= 1:\n",
        "        return False\n",
        "\n",
        "    for i in range(2, number):\n",
        "        if number % i == 0:\n",
        "            return False\n",
        "    return True\n",
        "\n",
        "num = int(input(\"Enter a number: \"))\n",
        "\n",
        "if is_prime(num):\n",
        "    print(num, \"is a prime number.\")\n",
        "else:\n",
        "    print(num, \"is not a prime number.\")\n"
      ],
      "metadata": {
        "colab": {
          "base_uri": "https://localhost:8080/"
        },
        "id": "yemIsVecx8We",
        "outputId": "d6e38a4c-17b5-4136-cbef-d3cf8ea3951a"
      },
      "execution_count": 8,
      "outputs": [
        {
          "output_type": "stream",
          "name": "stdout",
          "text": [
            "Enter a number: 17\n",
            "17 is a prime number.\n"
          ]
        }
      ]
    },
    {
      "cell_type": "markdown",
      "source": [
        "# *7. Write a Python program to reverse a list using for loop.*"
      ],
      "metadata": {
        "id": "xp-3g06rylC7"
      }
    },
    {
      "cell_type": "code",
      "source": [
        "print(\"Enter a list of numbers separated by spaces:\")\n",
        "user_input = input()\n",
        "\n",
        "numbers = [int(num) for num in user_input.split()]\n",
        "\n",
        "reversed_list = []\n",
        "for num in range(len(numbers) - 1, -1, -1):\n",
        "    reversed_list.append(numbers[num])\n",
        "\n",
        "print(\"The reversed list is:\", reversed_list)"
      ],
      "metadata": {
        "colab": {
          "base_uri": "https://localhost:8080/"
        },
        "id": "Y2c4vxWyyp9x",
        "outputId": "420ad88a-2023-4141-e258-6de1586209d0"
      },
      "execution_count": 10,
      "outputs": [
        {
          "output_type": "stream",
          "name": "stdout",
          "text": [
            "Enter a list of numbers separated by spaces:\n",
            "56 63 78 81 93 102\n",
            "The reversed list is: [102, 93, 81, 78, 63, 56]\n"
          ]
        }
      ]
    },
    {
      "cell_type": "markdown",
      "source": [
        "# 8. Write a Python program to print the following pattern."
      ],
      "metadata": {
        "id": "yRF3zY57zajq"
      }
    },
    {
      "cell_type": "code",
      "source": [
        "for i in range(1, 5):\n",
        "    print('*' * i)"
      ],
      "metadata": {
        "colab": {
          "base_uri": "https://localhost:8080/"
        },
        "id": "20ZYUTFmzP27",
        "outputId": "1b8d32b4-2579-4d63-967f-225d60633e4a"
      },
      "execution_count": 11,
      "outputs": [
        {
          "output_type": "stream",
          "name": "stdout",
          "text": [
            "*\n",
            "**\n",
            "***\n",
            "****\n"
          ]
        }
      ]
    },
    {
      "cell_type": "markdown",
      "source": [
        "# **9. Write a Python program to find the maximum of three numbers**"
      ],
      "metadata": {
        "id": "02AlP5710AvB"
      }
    },
    {
      "cell_type": "code",
      "source": [
        "def find_max_of_three(a, b, c):\n",
        "    if a >= b and a >= c:\n",
        "        return a\n",
        "    elif b >= a and b >= c:\n",
        "        return b\n",
        "    else:\n",
        "        return c\n",
        "\n",
        "num1 = int(input(\"Enter the first number: \"))\n",
        "num2 = int(input(\"Enter the second number: \"))\n",
        "num3 = int(input(\"Enter the third number: \"))\n",
        "\n",
        "max_number = find_max_of_three(num1, num2, num3)\n",
        "\n",
        "print(\"The maximum of the three numbers is:\", max_number)\n"
      ],
      "metadata": {
        "colab": {
          "base_uri": "https://localhost:8080/"
        },
        "id": "7FDZt5Zzz2m5",
        "outputId": "656afcc9-8c2d-4413-98fc-f605e1975f66"
      },
      "execution_count": 12,
      "outputs": [
        {
          "output_type": "stream",
          "name": "stdout",
          "text": [
            "Enter the first number: 56\n",
            "Enter the second number: 12\n",
            "Enter the third number: 83\n",
            "The maximum of the three numbers is: 83\n"
          ]
        }
      ]
    },
    {
      "cell_type": "markdown",
      "source": [
        "# 10. Write a Python program to construct the following pattern, using a nested for loop."
      ],
      "metadata": {
        "id": "62-Wjp6A0u2D"
      }
    },
    {
      "cell_type": "code",
      "source": [
        "n = 5\n",
        "for i in range(1, n + 1):\n",
        "    print('*' * i)\n",
        "\n",
        "for i in range(n - 1, 0, -1):\n",
        "    print('*' * i)\n"
      ],
      "metadata": {
        "colab": {
          "base_uri": "https://localhost:8080/"
        },
        "id": "Du3jHUuy05Zw",
        "outputId": "444ab3ed-2a21-41af-997e-35bcf8c420d1"
      },
      "execution_count": 13,
      "outputs": [
        {
          "output_type": "stream",
          "name": "stdout",
          "text": [
            "*\n",
            "**\n",
            "***\n",
            "****\n",
            "*****\n",
            "****\n",
            "***\n",
            "**\n",
            "*\n"
          ]
        }
      ]
    }
  ]
}