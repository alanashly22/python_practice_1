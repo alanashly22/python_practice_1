{
  "nbformat": 4,
  "nbformat_minor": 0,
  "metadata": {
    "colab": {
      "provenance": []
    },
    "kernelspec": {
      "name": "python3",
      "display_name": "Python 3"
    },
    "language_info": {
      "name": "python"
    }
  },
  "cells": [
    {
      "cell_type": "markdown",
      "source": [
        "# **1. Write a Python program to accept a string value from the user and display the count of each character in that string.**"
      ],
      "metadata": {
        "id": "Tt-IuXMN1uf_"
      }
    },
    {
      "cell_type": "code",
      "source": [
        "user_string = input(\"Enter a string: \")\n",
        "\n",
        "char_count = {}\n",
        "\n",
        "for char in user_string:\n",
        "    if char in char_count:\n",
        "        char_count[char] += 1\n",
        "    else:\n",
        "        char_count[char] = 1\n",
        "\n",
        "for char in char_count:\n",
        "    print(char, \":\", char_count[char])\n"
      ],
      "metadata": {
        "colab": {
          "base_uri": "https://localhost:8080/"
        },
        "id": "L7oOGl5X1zai",
        "outputId": "a7019f57-569a-496e-f3e7-fe799ac21fcf"
      },
      "execution_count": 1,
      "outputs": [
        {
          "output_type": "stream",
          "name": "stdout",
          "text": [
            "Enter a string: alanashly\n",
            "a : 3\n",
            "l : 2\n",
            "n : 1\n",
            "s : 1\n",
            "h : 1\n",
            "y : 1\n"
          ]
        }
      ]
    },
    {
      "cell_type": "markdown",
      "source": [
        "# **2. . Write a Python function to find the maximum of three numbers**"
      ],
      "metadata": {
        "id": "IPsKpNF_2_wR"
      }
    },
    {
      "cell_type": "code",
      "source": [
        "def find_max_of_three(a, b, c):\n",
        "    if a >= b and a >= c:\n",
        "        return a\n",
        "    elif b >= a and b >= c:\n",
        "        return b\n",
        "    else:\n",
        "        return c\n",
        "\n",
        "num1 = int(input(\"Enter the first number: \"))\n",
        "num2 = int(input(\"Enter the second number: \"))\n",
        "num3 = int(input(\"Enter the third number: \"))\n",
        "\n",
        "max_number = find_max_of_three(num1, num2, num3)\n",
        "\n",
        "print(\"The maximum of the three numbers is:\", max_number)\n"
      ],
      "metadata": {
        "colab": {
          "base_uri": "https://localhost:8080/"
        },
        "id": "ffBfs67Z3H8U",
        "outputId": "41a62166-6c81-4d36-9701-e0cd0b4092c9"
      },
      "execution_count": 2,
      "outputs": [
        {
          "output_type": "stream",
          "name": "stdout",
          "text": [
            "Enter the first number: 56\n",
            "Enter the second number: 45\n",
            "Enter the third number: 76\n",
            "The maximum of the three numbers is: 76\n"
          ]
        }
      ]
    },
    {
      "cell_type": "markdown",
      "source": [
        "# **3. Write a Python function called exponent(base,exp) that returns an integer value of base raises to the power of exp.**"
      ],
      "metadata": {
        "id": "U6j2xaDK3Z1q"
      }
    },
    {
      "cell_type": "code",
      "source": [
        "def exponent(base, exp):\n",
        "    result = 1\n",
        "    for _ in range(exp):\n",
        "        result *= base\n",
        "    return result\n",
        "base = int(input(\"Enter the base: \"))\n",
        "exp = int(input(\"Enter the exponent: \"))\n",
        "print(base, \"raised to the power of\", exp, \"is:\", exponent(base, exp))\n"
      ],
      "metadata": {
        "colab": {
          "base_uri": "https://localhost:8080/"
        },
        "id": "r2RS06IR3l6A",
        "outputId": "8df4de75-689e-4992-f837-0ac976f5b9cd"
      },
      "execution_count": 3,
      "outputs": [
        {
          "output_type": "stream",
          "name": "stdout",
          "text": [
            "Enter the base: 8\n",
            "Enter the exponent: 2\n",
            "8 raised to the power of 2 is: 64\n"
          ]
        }
      ]
    },
    {
      "cell_type": "markdown",
      "source": [
        "# *4. Write a Python function that takes a positive integer and returns the sum of the cube of all the positive integers smaller than the specified number.*"
      ],
      "metadata": {
        "id": "qfq8sPF_4RtI"
      }
    },
    {
      "cell_type": "code",
      "source": [
        "def sum_of_cubes(n):\n",
        "    sum_cubes = 0\n",
        "\n",
        "    for i in range(1, n):\n",
        "        cube = i ** 3\n",
        "        sum_cubes += cube\n",
        "\n",
        "    return sum_cubes\n",
        "\n",
        "num = int(input(\"Enter a positive integer: \"))\n",
        "\n",
        "if num > 0:\n",
        "    result = sum_of_cubes(num)\n",
        "    print(f\"The sum of cubes of positive integers smaller than {num} is:\", result)\n",
        "else:\n",
        "    print(\"Please enter a positive integer.\")\n"
      ],
      "metadata": {
        "colab": {
          "base_uri": "https://localhost:8080/"
        },
        "id": "jm2GeuHu4hFH",
        "outputId": "1bd52f36-fe6b-4218-8fcd-415f2ee999c7"
      },
      "execution_count": 4,
      "outputs": [
        {
          "output_type": "stream",
          "name": "stdout",
          "text": [
            "Enter a positive integer: 5\n",
            "The sum of cubes of positive integers smaller than 5 is: 100\n"
          ]
        }
      ]
    },
    {
      "cell_type": "markdown",
      "source": [
        "# 5.Write a Python program which iterates from 1 to 10. For multiples of 2, print “Fizz” instead of the number and for the multiples of 5, print “Buzz” For numbers which are multiples of both 2 and 5, print “FizzBuzz”."
      ],
      "metadata": {
        "id": "KxMvY7tG48Vt"
      }
    },
    {
      "cell_type": "code",
      "source": [
        "for i in range(1, 11):\n",
        "    if i % 2 == 0 and i % 5 == 0:\n",
        "        print(\"FizzBuzz\")\n",
        "    elif i % 2 == 0:\n",
        "        print(\"Fizz\")\n",
        "    elif i % 5 == 0:\n",
        "        print(\"Buzz\")\n",
        "    else:\n",
        "        print(i)\n"
      ],
      "metadata": {
        "colab": {
          "base_uri": "https://localhost:8080/"
        },
        "id": "royJkDEk5OjE",
        "outputId": "d070b6c5-dc47-471e-f4ef-349c0eb669d6"
      },
      "execution_count": 5,
      "outputs": [
        {
          "output_type": "stream",
          "name": "stdout",
          "text": [
            "1\n",
            "Fizz\n",
            "3\n",
            "Fizz\n",
            "Buzz\n",
            "Fizz\n",
            "7\n",
            "Fizz\n",
            "9\n",
            "FizzBuzz\n"
          ]
        }
      ]
    },
    {
      "cell_type": "markdown",
      "source": [
        "# **6. Write a Python program to find the most frequent item in a list of numbers.**"
      ],
      "metadata": {
        "id": "zO-RegUf5weT"
      }
    },
    {
      "cell_type": "code",
      "source": [
        "def most_frequent(numbers):\n",
        "    count_dict = {}\n",
        "    for num in numbers:\n",
        "        if num in count_dict:\n",
        "            count_dict[num] += 1\n",
        "        else:\n",
        "            count_dict[num] = 1\n",
        "\n",
        "    most_freq_item = None\n",
        "    max_count = 0\n",
        "    for num, count in count_dict.items():\n",
        "        if count > max_count:\n",
        "            max_count = count\n",
        "            most_freq_item = num\n",
        "\n",
        "    return most_freq_item\n",
        "\n",
        "def get_number_list():\n",
        "    input_string = input(\"Enter numbers separated by spaces: \")\n",
        "\n",
        "    input_list = input_string.split()\n",
        "\n",
        "    numbers = [int(num) for num in input_list]\n",
        "\n",
        "    return numbers\n",
        "\n",
        "numbers = get_number_list()\n",
        "\n",
        "if numbers:\n",
        "    most_freq = most_frequent(numbers)\n",
        "    print(\"The most frequent item in the list is:\", most_freq)\n",
        "else:\n",
        "    print(\"No numbers were entered.\")\n"
      ],
      "metadata": {
        "colab": {
          "base_uri": "https://localhost:8080/"
        },
        "id": "nc3TMJLR53cx",
        "outputId": "2dd3931f-40c0-4af9-d7ee-fc069766cfe9"
      },
      "execution_count": 6,
      "outputs": [
        {
          "output_type": "stream",
          "name": "stdout",
          "text": [
            "Enter numbers separated by spaces: 25 63 45 25 78 12 25 96 36 25 17 25\n",
            "The most frequent item in the list is: 25\n"
          ]
        }
      ]
    },
    {
      "cell_type": "markdown",
      "source": [
        "# **7. Write a Python program to find the sum of squares of the numbers in a list.**"
      ],
      "metadata": {
        "id": "Va4G_r-FMB_G"
      }
    },
    {
      "cell_type": "code",
      "source": [
        "def sum_of_squares(numbers):\n",
        "    sum_squares = 0\n",
        "    for num in numbers:\n",
        "        square = num ** 2\n",
        "        sum_squares += square\n",
        "    return sum_squares\n",
        "\n",
        "def get_number_list():\n",
        "    input_string = input(\"Enter numbers separated by spaces: \")\n",
        "    input_list = input_string.split()\n",
        "    numbers = [int(num) for num in input_list]\n",
        "\n",
        "    return numbers\n",
        "numbers = get_number_list()\n",
        "if numbers:\n",
        "    sum_squares_result = sum_of_squares(numbers)\n",
        "    print(\"The sum of squares of numbers in the list is:\", sum_squares_result)\n",
        "else:\n",
        "    print(\"No numbers were entered.\")\n"
      ],
      "metadata": {
        "colab": {
          "base_uri": "https://localhost:8080/"
        },
        "id": "nVw9imBLMKhQ",
        "outputId": "7052c7f3-e9c6-47a5-9b5c-1319019ffbce"
      },
      "execution_count": 1,
      "outputs": [
        {
          "output_type": "stream",
          "name": "stdout",
          "text": [
            "Enter numbers separated by spaces: 2 1 3 1\n",
            "The sum of squares of numbers in the list is: 15\n"
          ]
        }
      ]
    },
    {
      "cell_type": "markdown",
      "source": [
        "# **8. Write a Python program using for loop that will iterate from 1 to 15. For each iteration, check if the current number is odd or even, and display the message to the screen as odd or even.**"
      ],
      "metadata": {
        "id": "GHJmVT0xMxs6"
      }
    },
    {
      "cell_type": "code",
      "source": [
        "for num in range(1, 16):\n",
        "    if num % 2 == 0:\n",
        "        print(f\"{num} is even\")\n",
        "    else:\n",
        "        print(f\"{num} is odd\")\n"
      ],
      "metadata": {
        "colab": {
          "base_uri": "https://localhost:8080/"
        },
        "id": "Wv-MMQRrM82l",
        "outputId": "d6c79046-395a-4e71-e2ff-dd99f65501d5"
      },
      "execution_count": 2,
      "outputs": [
        {
          "output_type": "stream",
          "name": "stdout",
          "text": [
            "1 is odd\n",
            "2 is even\n",
            "3 is odd\n",
            "4 is even\n",
            "5 is odd\n",
            "6 is even\n",
            "7 is odd\n",
            "8 is even\n",
            "9 is odd\n",
            "10 is even\n",
            "11 is odd\n",
            "12 is even\n",
            "13 is odd\n",
            "14 is even\n",
            "15 is odd\n"
          ]
        }
      ]
    },
    {
      "cell_type": "markdown",
      "source": [
        "# 9. Write a Python program to convert temperatures to and from Celsius Fahrenheit. [Formula: c/5=f-32/9 where c=temperature in Celsius and f= temperature in Fahrenheit.]"
      ],
      "metadata": {
        "id": "Ba8mzTRYNIuY"
      }
    },
    {
      "cell_type": "code",
      "source": [
        "def celsius_to_fahrenheit(celsius):\n",
        "    fahrenheit = (celsius * 9/5) + 32\n",
        "    return fahrenheit\n",
        "\n",
        "def fahrenheit_to_celsius(fahrenheit):\n",
        "    celsius = (fahrenheit - 32) * 5/9\n",
        "    return celsius\n",
        "\n",
        "def get_conversion_choice():\n",
        "    while True:\n",
        "        print(\"Choose conversion:\")\n",
        "        print(\"1. Celsius to Fahrenheit\")\n",
        "        print(\"2. Fahrenheit to Celsius\")\n",
        "        choice = input(\"Enter your choice (1/2): \")\n",
        "\n",
        "        if choice in ['1', '2']:\n",
        "            return int(choice)\n",
        "        else:\n",
        "            print(\"Invalid choice. Please enter 1 or 2.\")\n",
        "\n",
        "choice = get_conversion_choice()\n",
        "\n",
        "if choice == 1:\n",
        "    celsius_temp = float(input(\"Enter temperature in Celsius: \"))\n",
        "    fahrenheit_temp = celsius_to_fahrenheit(celsius_temp)\n",
        "    print(f\"{celsius_temp} degrees Celsius is equal to {fahrenheit_temp} degrees Fahrenheit\")\n",
        "elif choice == 2:\n",
        "    fahrenheit_temp = float(input(\"Enter temperature in Fahrenheit: \"))\n",
        "    celsius_temp = fahrenheit_to_celsius(fahrenheit_temp)\n",
        "    print(f\"{fahrenheit_temp} degrees Fahrenheit is equal to {celsius_temp} degrees Celsius\")\n"
      ],
      "metadata": {
        "colab": {
          "base_uri": "https://localhost:8080/"
        },
        "id": "cbIlecPZNV4x",
        "outputId": "336bfd72-bbc9-45af-aa6e-55722408cf4c"
      },
      "execution_count": 3,
      "outputs": [
        {
          "output_type": "stream",
          "name": "stdout",
          "text": [
            "Choose conversion:\n",
            "1. Celsius to Fahrenheit\n",
            "2. Fahrenheit to Celsius\n",
            "Enter your choice (1/2): 2\n",
            "Enter temperature in Fahrenheit: 103\n",
            "103.0 degrees Fahrenheit is equal to 39.44444444444444 degrees Celsius\n"
          ]
        }
      ]
    },
    {
      "cell_type": "markdown",
      "source": [
        "# **10. Write a Python function to calculate the factorial of a number (a nonnegative integer).**"
      ],
      "metadata": {
        "id": "YBrlaMBaOOtH"
      }
    },
    {
      "cell_type": "code",
      "source": [
        "def factorial(n):\n",
        "    factorial_result = 1\n",
        "\n",
        "    for i in range(1, n + 1):\n",
        "        factorial_result *= i\n",
        "\n",
        "    return factorial_result\n",
        "\n",
        "num = int(input(\"Enter a nonnegative integer: \"))\n",
        "\n",
        "if num >= 0:\n",
        "    result = factorial(num)\n",
        "    print(f\"The factorial of {num} is:\", result)\n",
        "else:\n",
        "    print(\"Please enter a nonnegative integer.\")\n"
      ],
      "metadata": {
        "colab": {
          "base_uri": "https://localhost:8080/"
        },
        "id": "5ccm4o7POl_N",
        "outputId": "0303340f-7598-4331-a02f-f0ccdff17477"
      },
      "execution_count": 5,
      "outputs": [
        {
          "output_type": "stream",
          "name": "stdout",
          "text": [
            "Enter a nonnegative integer: 7\n",
            "The factorial of 7 is: 5040\n"
          ]
        }
      ]
    }
  ]
}